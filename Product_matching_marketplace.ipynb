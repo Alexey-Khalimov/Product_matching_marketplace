{
 "cells": [
  {
   "cell_type": "markdown",
   "id": "e89266cd",
   "metadata": {
    "toc": true
   },
   "source": [
    "<h1>Table of Contents<span class=\"tocSkip\"></span></h1>\n",
    "<div class=\"toc\"><ul class=\"toc-item\"></ul></div>"
   ]
  },
  {
   "cell_type": "markdown",
   "id": "466c6140",
   "metadata": {},
   "source": [
    "# ПРОЕКТ. \"Разработка модели мэтчинга товаров для онлайн маркетплейса\""
   ]
  },
  {
   "cell_type": "markdown",
   "id": "fb5481ce",
   "metadata": {},
   "source": []
  },
  {
   "cell_type": "markdown",
   "id": "b8598d5a",
   "metadata": {},
   "source": [
    "**ПОСТАНОВКА ЗАДАЧИ**\n",
    "\n",
    "**Заказчик исследования** — Онлайн маркетплейс, предлагающий широкий ассортимент товаров от различных продавцов.\n",
    "\n",
    "**Исходные данные:** Датасеты содержат индексы товаров, обезличенные признаки товаров и индексы наиболее подходящих товаров-аналогов. Доступны обучающий, валидационный датасет и полный датасет (base) со всеми товарами.\n",
    "\n",
    "**Цель исследования:** Разработать и обучить модель, способную точно и эффективно находить наиболее подходящие товары-аналоги для заданного товара, используя доступные датасеты.\n",
    "\n",
    "Основываясь на результатах моделирования, HR-департамент сможет эффективнее управлять персоналом, предотвращая потери и улучшая условия работы.\n",
    "\n",
    "**Задачи исследования:**\n",
    "- Провести анализ данных (EDA) для понимания структуры и свойств датасета.\n",
    "- Разработать и обучить модель мэтчинга товаров, используя state-of-the-art инструменты.\n",
    "- Оценить производительность модели с использованием метрики accuracy@n.\n",
    "- - Оптимизировать модель для достижения accuracy@5 ≥ 0.7.\n",
    "Провести эксперименты по улучшению метрики, рассматривая альтернативные методы подбора аналогов.\n",
    "\n",
    "**Ход исследования** Исследование будет включать в себя следующие этапы:\n",
    "\n",
    "\n",
    "1. **Обзор данных:**\n",
    "   - Загрузка и первичный анализ предоставленных файлов данных.\n",
    "   - Оценка качества данных и выявление потенциальных проблем.\n",
    "   \n",
    "   \n",
    "2. **Предобработка данных:**\n",
    "   - Исправление обнаруженных ошибок и пропусков.\n",
    "   - Поиск аномалий в распределениях.   \n",
    "   \n",
    "3. **Исследовательский анализ данных (EDA):**\n",
    "    - Распределение значений в столбцах.\n",
    "    - Полезность столбцов для модели.\n",
    "    - Корреляции между столбцами.\n",
    "   \n",
    "   \n",
    "4. **Подготовка данных для моделирования:**\n",
    "   - Необходимость масштабирования данных..\n",
    "   \n",
    "   \n",
    "5. **Построение и оценка моделей машинного обучения:**\n",
    "   - Использование библиотеки FAISS для поиска ближайших соседей.\n",
    "   - Подбор гиперпараметров и оценка качества моделей.\n",
    "   \n",
    "   \n",
    "6. **Анализ результатов и выработка рекомендаций:**\n",
    "   - Запуск расчета метрики на наилучших параметрах на полной выборке.\n",
    "   - Интерпретация результатов прогнозирования.   \n",
    "\n",
    "\n",
    "7. **Улучшение метрики:**\n",
    "   - Исследовать возможности улучшения метрики, например, путем поиска большего числа ближайших соседей и последующего отбора.\n",
    "   \n",
    "   \n",
    "8. **Итоговые выводы и рекомендации:**\n",
    "   - Формулирование ключевых выводов исследования.\n",
    "\n"
   ]
  },
  {
   "cell_type": "markdown",
   "id": "4fe1409b",
   "metadata": {},
   "source": []
  },
  {
   "cell_type": "code",
   "execution_count": null,
   "id": "96470c8c",
   "metadata": {},
   "outputs": [],
   "source": []
  },
  {
   "cell_type": "code",
   "execution_count": null,
   "id": "806a598d",
   "metadata": {},
   "outputs": [],
   "source": []
  },
  {
   "cell_type": "code",
   "execution_count": null,
   "id": "dd40d9ad",
   "metadata": {},
   "outputs": [],
   "source": []
  },
  {
   "cell_type": "code",
   "execution_count": null,
   "id": "e638d700",
   "metadata": {},
   "outputs": [],
   "source": []
  },
  {
   "cell_type": "code",
   "execution_count": null,
   "id": "5656c0d5",
   "metadata": {},
   "outputs": [],
   "source": []
  },
  {
   "cell_type": "code",
   "execution_count": null,
   "id": "0f6de1a6",
   "metadata": {},
   "outputs": [],
   "source": []
  },
  {
   "cell_type": "code",
   "execution_count": null,
   "id": "3080f4f6",
   "metadata": {},
   "outputs": [],
   "source": []
  },
  {
   "cell_type": "code",
   "execution_count": null,
   "id": "de4c02db",
   "metadata": {},
   "outputs": [],
   "source": []
  },
  {
   "cell_type": "code",
   "execution_count": null,
   "id": "fb4bb49c",
   "metadata": {},
   "outputs": [],
   "source": []
  },
  {
   "cell_type": "code",
   "execution_count": null,
   "id": "56642bcf",
   "metadata": {},
   "outputs": [],
   "source": []
  },
  {
   "cell_type": "code",
   "execution_count": null,
   "id": "880c5da5",
   "metadata": {},
   "outputs": [],
   "source": []
  },
  {
   "cell_type": "code",
   "execution_count": null,
   "id": "416dad57",
   "metadata": {},
   "outputs": [],
   "source": []
  },
  {
   "cell_type": "code",
   "execution_count": null,
   "id": "b01c14cf",
   "metadata": {},
   "outputs": [],
   "source": []
  },
  {
   "cell_type": "code",
   "execution_count": null,
   "id": "ae2e56cf",
   "metadata": {},
   "outputs": [],
   "source": []
  },
  {
   "cell_type": "code",
   "execution_count": null,
   "id": "1f50bf76",
   "metadata": {},
   "outputs": [],
   "source": []
  },
  {
   "cell_type": "code",
   "execution_count": null,
   "id": "dda7cb60",
   "metadata": {},
   "outputs": [],
   "source": []
  },
  {
   "cell_type": "code",
   "execution_count": null,
   "id": "e2aea39f",
   "metadata": {},
   "outputs": [],
   "source": []
  },
  {
   "cell_type": "code",
   "execution_count": null,
   "id": "2e9241a7",
   "metadata": {},
   "outputs": [],
   "source": []
  },
  {
   "cell_type": "code",
   "execution_count": null,
   "id": "45eea61a",
   "metadata": {},
   "outputs": [],
   "source": []
  },
  {
   "cell_type": "code",
   "execution_count": null,
   "id": "0b1eaa3b",
   "metadata": {},
   "outputs": [],
   "source": []
  },
  {
   "cell_type": "code",
   "execution_count": null,
   "id": "da8a5e96",
   "metadata": {},
   "outputs": [],
   "source": []
  },
  {
   "cell_type": "code",
   "execution_count": null,
   "id": "e1d64f0f",
   "metadata": {},
   "outputs": [],
   "source": []
  },
  {
   "cell_type": "code",
   "execution_count": null,
   "id": "62e19e8c",
   "metadata": {},
   "outputs": [],
   "source": []
  },
  {
   "cell_type": "code",
   "execution_count": null,
   "id": "ce4e2d6d",
   "metadata": {},
   "outputs": [],
   "source": []
  },
  {
   "cell_type": "code",
   "execution_count": null,
   "id": "aea8ce57",
   "metadata": {},
   "outputs": [],
   "source": []
  },
  {
   "cell_type": "code",
   "execution_count": null,
   "id": "22e40a0f",
   "metadata": {},
   "outputs": [],
   "source": []
  },
  {
   "cell_type": "code",
   "execution_count": null,
   "id": "039a0c9c",
   "metadata": {},
   "outputs": [],
   "source": []
  },
  {
   "cell_type": "code",
   "execution_count": null,
   "id": "0107a882",
   "metadata": {},
   "outputs": [],
   "source": []
  }
 ],
 "metadata": {
  "kernelspec": {
   "display_name": "Python 3 (ipykernel)",
   "language": "python",
   "name": "python3"
  },
  "language_info": {
   "codemirror_mode": {
    "name": "ipython",
    "version": 3
   },
   "file_extension": ".py",
   "mimetype": "text/x-python",
   "name": "python",
   "nbconvert_exporter": "python",
   "pygments_lexer": "ipython3",
   "version": "3.9.19"
  },
  "nbTranslate": {
   "displayLangs": [
    "*"
   ],
   "hotkey": "alt-t",
   "langInMainMenu": true,
   "sourceLang": "en",
   "targetLang": "fr",
   "useGoogleTranslate": true
  },
  "toc": {
   "base_numbering": 1,
   "nav_menu": {},
   "number_sections": true,
   "sideBar": true,
   "skip_h1_title": true,
   "title_cell": "Table of Contents",
   "title_sidebar": "Contents",
   "toc_cell": true,
   "toc_position": {},
   "toc_section_display": true,
   "toc_window_display": false
  },
  "varInspector": {
   "cols": {
    "lenName": 16,
    "lenType": 16,
    "lenVar": 40
   },
   "kernels_config": {
    "python": {
     "delete_cmd_postfix": "",
     "delete_cmd_prefix": "del ",
     "library": "var_list.py",
     "varRefreshCmd": "print(var_dic_list())"
    },
    "r": {
     "delete_cmd_postfix": ") ",
     "delete_cmd_prefix": "rm(",
     "library": "var_list.r",
     "varRefreshCmd": "cat(var_dic_list()) "
    }
   },
   "types_to_exclude": [
    "module",
    "function",
    "builtin_function_or_method",
    "instance",
    "_Feature"
   ],
   "window_display": false
  }
 },
 "nbformat": 4,
 "nbformat_minor": 5
}
